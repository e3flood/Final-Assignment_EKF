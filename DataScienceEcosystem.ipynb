{
 "cells": [
  {
   "cell_type": "markdown",
   "id": "9a3ec659",
   "metadata": {},
   "source": [
    "# H1: Data Science Tools and Ecosystem"
   ]
  },
  {
   "cell_type": "markdown",
   "id": "7d05e29c",
   "metadata": {},
   "source": [
    "In this notebook, Data Science Tools and Ecosystem are summarized."
   ]
  },
  {
   "cell_type": "markdown",
   "id": "87c0ffc6",
   "metadata": {},
   "source": [
    "**Objective:**\n",
    "\n",
    "- List of popular languages for Data Science\n",
    "- List of popular libraries for Data Science\n",
    "- Arithmetic expression Converting minutes to hours\n",
    "- Simple arithmetic expression for integers"
   ]
  },
  {
   "attachments": {},
   "cell_type": "markdown",
   "id": "28586143",
   "metadata": {},
   "source": [
    "Some of the popular languages that Data Scientists use are:\n",
    "\n",
    "1. R\n",
    "2. Python\n",
    "3. Java\n",
    "4. Julia\n",
    "5. MatLab\n",
    "6. Scala\n",
    "7. C++"
   ]
  },
  {
   "cell_type": "markdown",
   "id": "f0920d15",
   "metadata": {},
   "source": [
    "Some of the commonly used libraries used by Data Scientists include:\n",
    "\n",
    "1. Pandas\n",
    "2. PyTorch\n",
    "3. TensorFlow\n",
    "4. Scikit-Learn\n",
    "5. NumPy\n",
    "6. Kera\n",
    "7. MatplotLib"
   ]
  },
  {
   "cell_type": "markdown",
   "id": "09c63a9a",
   "metadata": {},
   "source": [
    "|Data Science Tools|\n",
    "|------------------|\n",
    "|RStudio|\n",
    "|JupyterLab Notebook|\n",
    "|Apache Spark|\n",
    "|Google Colab|\n",
    "|Stata|\n",
    "\n",
    "\n"
   ]
  },
  {
   "cell_type": "markdown",
   "id": "a8dd9ccd",
   "metadata": {},
   "source": [
    "### H3: Below are a few examples of evaluating arithmetic expressions in Python"
   ]
  },
  {
   "cell_type": "code",
   "execution_count": 1,
   "id": "3d1fdb69",
   "metadata": {},
   "outputs": [
    {
     "data": {
      "text/plain": [
       "17"
      ]
     },
     "execution_count": 1,
     "metadata": {},
     "output_type": "execute_result"
    }
   ],
   "source": [
    "#This a simple arithmetic expression to mutiply then add integers\n",
    "\n",
    "(3*4)+5"
   ]
  },
  {
   "cell_type": "code",
   "execution_count": 2,
   "id": "167e789a",
   "metadata": {},
   "outputs": [
    {
     "data": {
      "text/plain": [
       "3.3333333333333335"
      ]
     },
     "execution_count": 2,
     "metadata": {},
     "output_type": "execute_result"
    }
   ],
   "source": [
    "#This will convert 200 minutes to hours by dividing by 60\n",
    "\n",
    "(200/60) "
   ]
  },
  {
   "cell_type": "markdown",
   "id": "3c1a7e96",
   "metadata": {},
   "source": [
    "## H2: Author\n",
    "      Elijah K. Flood"
   ]
  },
  {
   "cell_type": "code",
   "execution_count": null,
   "id": "63a852fe",
   "metadata": {},
   "outputs": [],
   "source": []
  }
 ],
 "metadata": {
  "kernelspec": {
   "display_name": "Python 3 (ipykernel)",
   "language": "python",
   "name": "python3"
  },
  "language_info": {
   "codemirror_mode": {
    "name": "ipython",
    "version": 3
   },
   "file_extension": ".py",
   "mimetype": "text/x-python",
   "name": "python",
   "nbconvert_exporter": "python",
   "pygments_lexer": "ipython3",
   "version": "3.10.9"
  }
 },
 "nbformat": 4,
 "nbformat_minor": 5
}
